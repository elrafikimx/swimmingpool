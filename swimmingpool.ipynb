print("--------- PROGRAM START ---------")
f1 = open("10.in", "r")
#print(f1.read())
lifeSavers = f1.readline()
print("Life Savers # =",lifeSavers)
#Lines = f1.readlines() #returns a List of lines

#Set variables for min and max shifts times
LStart = []
LEnd = []
LRanges = []

#--- LEAD INITIAL SET
m = 0
endm = 0
im = -1
#---TAIL INITIAL SET
startM = 0
M = 0
iM = -1

#---1ST LOOP INITIAL SET
i = 0
loopsize = int(lifeSavers)
count = 0
#parse through all lines to get the maximum coverage of time given by two Lifesavers:
for i in range(0, loopsize):
    #print("Linea {} , Count = {}:".format(Line.strip(),count))
    #Line2 = Line.strip()
    Line2 = f1.readline()
    Line2 = str(Line2)
    #print("Linea {},Count = {},i = {}:".format(Line2,i,i))
        
    #print(Line2)
    #print("Id {}, Name={}".format(Line2.split(",")[4],Line2.split(",")[5]))
        
    record = Line2.split(" ")
        
        
    #GET Wstart
    Wstart = int(record[0])

    #GET Wend
    Wend = int(record[1])
        
    Wrange = int(Wend) - int(Wstart)  
        
    #Append into Start, End and Ranges shift lists
    LStart.append(Wstart)
    LEnd.append(Wend)
    LRanges.append(Wrange)
        
    #Set min and max shift time
    if (i == 0):
        im = 0
        iM = 0
        m = Wstart
        endm = Wend
        startM = Wstart
        M = Wend
    else:
        #if (Wstart < m or (Wstart == m and Wend > endm)):
        #    m = Wstart
        #    im = i
        #    endm = Wend
                    
        #if (Wend > M or (Wend == M and Wstart < startM)):
        #    M = Wend
        #    iM = i
        #    startM = Wstart
        #    #print("startM = ",startM)
        
        #Get renewed values for m or endm (LEAD VALUES)
        if (Wstart < m):
            m = Wstart
            endm = Wend
            im = i
        elif (Wstart == m and Wend > endm):
            endm = Wend
            im = i
       
        #Get renewed values for startM or M (TRAIL VALUES)
        if (Wend > M):
            M = Wend
            startM = Wstart
            iM = i
        elif (Wend == M and Wstart < startM):
            startM = Wstart
            iM = i
                
    print("Wstart={}, Wend={}, indxm = {}, indxM = {}".format(Wstart,Wend,im,iM))

print("Lead @ index {}, Tail @ index {}".format(im,iM))

m = LStart[im]
endm = LEnd[im]
startM = LStart[iM]
M = LEnd[iM]

#Print the unattended window size
if (im == iM):
    GapUncoveredT2T = 0
else:
    GapUncoveredT2T = startM - endm

print("m={} endm={} @ index={} startM={} M={} @ index={} GAP={}".format(m,endm,im,startM,M,iM,GapUncoveredT2T))


#After 1st parsing, get the smallest gap between the lowest start time and the hightest end time
TotalWindowToCover = M-m
print("Total Window to cover ({},{}) = {}".format(m,M,TotalWindowToCover))

#In a 3-record long file, max attention time in the pool is the sum of MIN and MAX
if (loopsize == 3):
    maxAttTime = LRanges[im] + LRanges[iM]
    print("Print in file: {}".format(maxAttTime))
else:    
    LShiftCoverage = []
    LUnattended = []
    gapUnatt = 0
    shiftAt = ""
    TotalWindowAtRecord = 0
    indxLead = 0
    indxTail = 0
    unattendedWndw = 0
    recType = ""
        
    #Parse again to get the size of the greatest attention window given by all the lifesavers
    for i in range(0, loopsize):
        #Determine the unattended window size of this specific shift
        Wstart = LStart[i]
        Wend = LEnd[i]
        wdwSize = LRanges[i]
       
        
        if (i == im or i == iM):
            TotalWindowAtRecord = wdwSize
            
            if (im == iM):
                recType = "LEAD & TAIL"
                indxLead = i
                indxTail = i
            else:
                if (i == im):
                    indxLead = i
                    recType = "LEAD"
                elif (i == iM):
                    indxTail = i
                    recType = "TAIL"

            print("Size ({},{}) @ record # {} = {} ---> {}".format(LStart[i],LEnd[i],i,wdwSize,recType))
            
        else:
            #Calculate Total Window including lead, middle and tail times
            if (Wstart>=endm and Wend<=startM):
                #current record window starts after lead time and ends before tail time
                TotalWindowAtRecord = (endm-m) + (Wend-Wstart) + (M-startM)
            elif (Wstart<endm and Wend<=startM):
                #current record window overlaps lead time and ends before tail time
                TotalWindowAtRecord = (endm-m) + (Wend-Wstart) + (M-startM) - (endm-Wstart)
            elif (Wend>startM and Wstart>=endm):
                #current record window overlaps lead time and ends before tail time
                TotalWindowAtRecord = (endm-m) + (Wend-Wstart) + (M-startM) - (Wend-startM)

            unattendedWndw = TotalWindowToCover - TotalWindowAtRecord

            print("Window Size ({},{}) @ record #{} = {}, Total Window={}, Unatt Wndow={} ---> MIDDLE".format(Wstart,Wend,i,wdwSize,TotalWindowAtRecord,unattendedWndw))

        LShiftCoverage.append(TotalWindowAtRecord)
        LUnattended.append(unattendedWndw)
  
    #Get the greatest coverage window at the Top of the Shift List
    LSC2 = []
    LSC2 = LShiftCoverage.copy()
    LShiftCoverage.sort(reverse=True)
    maxAttTime = LShiftCoverage[0]
    indxMaxTime = LSC2.index(maxAttTime)
    
    print("Max Coverage Time Span = {} @ Index {} Window ({},{} Lead @ {} Tail @ {})".format(maxAttTime,indxMaxTime,LStart[indxMaxTime],LEnd[indxMaxTime],indxLead,indxTail))
    
    
f1.close()

#create new file with separated columns
f2 = open ("10.out", "w")
f2.write(str(maxAttTime))
f2.close()

print("--------- PROGRAM END ---------")

